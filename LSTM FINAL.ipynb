{
 "cells": [
  {
   "cell_type": "code",
   "execution_count": 2,
   "id": "26c02977",
   "metadata": {},
   "outputs": [
    {
     "name": "stderr",
     "output_type": "stream",
     "text": [
      "2024-09-04 02:24:38.338928: I tensorflow/core/platform/cpu_feature_guard.cc:210] This TensorFlow binary is optimized to use available CPU instructions in performance-critical operations.\n",
      "To enable the following instructions: AVX2 FMA, in other operations, rebuild TensorFlow with the appropriate compiler flags.\n"
     ]
    }
   ],
   "source": [
    "import numpy as np\n",
    "import pandas as pd\n",
    "import matplotlib.pyplot as plt\n",
    "import tensorflow as tf\n",
    "from keras.models import Sequential\n",
    "from keras.layers import LSTM, Dense, Dropout, Input\n",
    "from keras.optimizers import SGD\n",
    "from sklearn.preprocessing import MinMaxScaler\n",
    "from sklearn.metrics import r2_score, mean_squared_error, mean_absolute_percentage_error"
   ]
  },
  {
   "cell_type": "code",
   "execution_count": 3,
   "id": "971e0ace",
   "metadata": {},
   "outputs": [],
   "source": [
    "# IMPORT DAN PARSING DATA #"
   ]
  },
  {
   "cell_type": "code",
   "execution_count": 4,
   "id": "75ac6894",
   "metadata": {},
   "outputs": [],
   "source": [
    "# Load data\n",
    "data = pd.read_csv('Dataset1.csv', parse_dates=['Tanggal'], dayfirst=True)"
   ]
  },
  {
   "cell_type": "code",
   "execution_count": 5,
   "id": "961d7cfd",
   "metadata": {},
   "outputs": [],
   "source": [
    "# STANDARISASI FORMAT #"
   ]
  },
  {
   "cell_type": "code",
   "execution_count": 6,
   "id": "f431f843",
   "metadata": {},
   "outputs": [],
   "source": [
    "numeric_cols = ['Pembukaan', 'Tertinggi', 'Terendah', 'Terakhir']\n",
    "for col in numeric_cols:\n",
    "    data[col] = data[col].str.replace(',', '.').astype(float)"
   ]
  },
  {
   "cell_type": "code",
   "execution_count": 7,
   "id": "9b285a85",
   "metadata": {},
   "outputs": [],
   "source": [
    "# Mengganti tanda koma dengan titik dalam kolom Vol.\n",
    "data['Vol.'] = data['Vol.'].str.replace(',', '').str.replace('M', '').astype(float) * 1e6\n",
    "\n",
    "# Mengonversi kolom Change% menjadi desimal\n",
    "data['Perubahan%'] = data['Perubahan%'].str.replace(',', '.').str.replace('%', '').astype(float) / 100"
   ]
  },
  {
   "cell_type": "code",
   "execution_count": 8,
   "id": "877a4250",
   "metadata": {},
   "outputs": [],
   "source": [
    "# Preprocess data\n",
    "data['Tanggal'] = pd.to_datetime(data['Tanggal'])\n",
    "data.set_index('Tanggal', inplace=True)"
   ]
  },
  {
   "cell_type": "code",
   "execution_count": 9,
   "id": "e3d1d876",
   "metadata": {},
   "outputs": [],
   "source": [
    "data = data.sort_values('Tanggal')"
   ]
  },
  {
   "cell_type": "code",
   "execution_count": 10,
   "id": "5be5f715",
   "metadata": {},
   "outputs": [],
   "source": [
    "# DATA IMPUTATION #"
   ]
  },
  {
   "cell_type": "code",
   "execution_count": 11,
   "id": "b1da993b",
   "metadata": {},
   "outputs": [],
   "source": [
    "df_unsampled = data.resample('D').asfreq().interpolate(method='linear')\n",
    "df_unsampled.reset_index(inplace=True)\n",
    "df_unsampled = df_unsampled.sort_values('Tanggal')"
   ]
  },
  {
   "cell_type": "code",
   "execution_count": 12,
   "id": "8930e7de",
   "metadata": {},
   "outputs": [],
   "source": [
    "# SELEKSTI FITUR DAN WINDOWING#"
   ]
  },
  {
   "cell_type": "code",
   "execution_count": 13,
   "id": "8f71018f",
   "metadata": {},
   "outputs": [],
   "source": [
    "# Pilih fitur\n",
    "temp_X = df_unsampled.copy()\n",
    "temp_y = df_unsampled.copy()\n",
    "X = temp_X[['Pembukaan', 'Tertinggi', 'Terendah']].iloc[:-1,:]\n",
    "y = temp_y['Terakhir'].shift(-1).dropna()"
   ]
  },
  {
   "cell_type": "code",
   "execution_count": 14,
   "id": "57f6cccb",
   "metadata": {},
   "outputs": [],
   "source": [
    "y= pd.DataFrame(y)"
   ]
  },
  {
   "cell_type": "code",
   "execution_count": 15,
   "id": "7c1a30ec",
   "metadata": {},
   "outputs": [],
   "source": [
    "# DATA SPLITTING #"
   ]
  },
  {
   "cell_type": "code",
   "execution_count": 16,
   "id": "b2093b8a",
   "metadata": {},
   "outputs": [],
   "source": [
    "# Copy data untuk pelatihan dan pengujian\n",
    "X_train = X.copy()\n",
    "y_train = y.copy()\n",
    "\n",
    "X_test = X.copy()\n",
    "y_test = y.copy()"
   ]
  },
  {
   "cell_type": "code",
   "execution_count": 17,
   "id": "f8077f10",
   "metadata": {},
   "outputs": [],
   "source": [
    "# Bagi data menjadi data pelatihan dan data pengujian\n",
    "X_train = X_train.drop(X_train[2993:].index)\n",
    "y_train = y_train.drop(y_train[2993:].index)"
   ]
  },
  {
   "cell_type": "code",
   "execution_count": 18,
   "id": "12bec383",
   "metadata": {},
   "outputs": [],
   "source": [
    "X_test = X_test.drop(X_test[:-749].index)\n",
    "y_test = y_test.drop(y_test[:-749].index)"
   ]
  },
  {
   "cell_type": "code",
   "execution_count": 19,
   "id": "028d9932",
   "metadata": {},
   "outputs": [],
   "source": [
    "X_train2 = X_train.copy()\n",
    "y_train2 = y_train.copy()\n",
    "\n",
    "X_test2 = X_test.copy()\n",
    "y_test2 = y_test.copy()"
   ]
  },
  {
   "cell_type": "code",
   "execution_count": 20,
   "id": "b1eaedf3",
   "metadata": {},
   "outputs": [],
   "source": [
    "# DATA SCALING #"
   ]
  },
  {
   "cell_type": "code",
   "execution_count": 21,
   "id": "dbadfa1a",
   "metadata": {},
   "outputs": [],
   "source": [
    "# Normalisasi data\n",
    "scaler_X = MinMaxScaler()\n",
    "scaler_y = MinMaxScaler()\n",
    "X_train2 = scaler_X.fit_transform(X_train2)\n",
    "X_test2 = scaler_X.transform(X_test2)\n",
    "y_train2 = scaler_y.fit_transform(y_train2)\n",
    "y_test2 = scaler_y.transform(y_test2)"
   ]
  },
  {
   "cell_type": "code",
   "execution_count": 22,
   "id": "551557ca",
   "metadata": {},
   "outputs": [],
   "source": [
    "n_val = int(0.2 * len(X_train2))  # 20% dari jumlah data pelatihan\n",
    "\n",
    "# Mengambil 20% data terakhir untuk validasi\n",
    "X_val_split = X_train2[-n_val:]\n",
    "y_val_split = y_train2[-n_val:]"
   ]
  },
  {
   "cell_type": "code",
   "execution_count": 23,
   "id": "3aa161aa",
   "metadata": {},
   "outputs": [],
   "source": [
    "# Function to create dataset with given time step\n",
    "def create_dataset(dataset_X, dataset_y, time_step=1):\n",
    "    dataX, dataY = [], []\n",
    "    for i in range(len(dataset_X) - time_step):\n",
    "        dataX.append(dataset_X[i:(i + time_step), :])\n",
    "        dataY.append(dataset_y[i + time_step])\n",
    "    return np.array(dataX), np.array(dataY)\n",
    "\n",
    "time_step = 10\n",
    "X_train2, y_train2 = create_dataset(X_train2, y_train2,time_step)\n",
    "X_test2, y_test2 = create_dataset(X_test2, y_test2,time_step)\n",
    "X_val_split, y_val_split = create_dataset(X_val_split, y_val_split, time_step)"
   ]
  },
  {
   "cell_type": "code",
   "execution_count": 24,
   "id": "4544278d",
   "metadata": {},
   "outputs": [],
   "source": [
    "# Reshape input to be [samples, time steps, features]\n",
    "X_train2 = X_train2.reshape(X_train2.shape[0], X_train2.shape[1], X_train2.shape[2])\n",
    "X_test2 = X_test2.reshape(X_test2.shape[0], X_test2.shape[1], X_test2.shape[2])\n",
    "X_val_split = X_val_split.reshape(X_val_split.shape[0], X_val_split.shape[1],X_val_split.shape[2])"
   ]
  },
  {
   "cell_type": "code",
   "execution_count": 25,
   "id": "b3aa6702",
   "metadata": {},
   "outputs": [],
   "source": [
    "# Build LSTM model\n",
    "model = Sequential()\n",
    "model.add(Input(shape=(X_train2.shape[1], X_train2.shape[2])))  # Menambahkan Input layer sebagai layer pertama\n",
    "model.add(LSTM(units=64, return_sequences=True))\n",
    "model.add(Dropout(0.2))\n",
    "model.add(LSTM(units=64, return_sequences=True))\n",
    "model.add(Dropout(0.2))\n",
    "model.add(LSTM(units=64))\n",
    "model.add(Dropout(0.2))\n",
    "model.add(Dense(units=1))\n",
    "\n",
    "# Compile model using SGD optimizer\n",
    "model.compile(optimizer=SGD(learning_rate=0.01, momentum=0.9), loss='mean_squared_error')"
   ]
  },
  {
   "cell_type": "code",
   "execution_count": 26,
   "id": "8ba7eaf1",
   "metadata": {},
   "outputs": [
    {
     "name": "stdout",
     "output_type": "stream",
     "text": [
      "Epoch 1/50\n",
      "75/75 - 6s - 77ms/step - loss: 0.0227 - val_loss: 0.1452\n",
      "Epoch 2/50\n",
      "75/75 - 1s - 19ms/step - loss: 0.0076 - val_loss: 0.0409\n",
      "Epoch 3/50\n",
      "75/75 - 1s - 19ms/step - loss: 0.0021 - val_loss: 0.0065\n",
      "Epoch 4/50\n",
      "75/75 - 1s - 18ms/step - loss: 0.0013 - val_loss: 0.0030\n",
      "Epoch 5/50\n",
      "75/75 - 1s - 19ms/step - loss: 0.0011 - val_loss: 0.0027\n",
      "Epoch 6/50\n",
      "75/75 - 1s - 16ms/step - loss: 0.0011 - val_loss: 0.0028\n",
      "Epoch 7/50\n",
      "75/75 - 1s - 17ms/step - loss: 0.0010 - val_loss: 0.0020\n",
      "Epoch 8/50\n",
      "75/75 - 1s - 17ms/step - loss: 9.8950e-04 - val_loss: 0.0021\n",
      "Epoch 9/50\n",
      "75/75 - 1s - 16ms/step - loss: 0.0010 - val_loss: 0.0026\n",
      "Epoch 10/50\n",
      "75/75 - 1s - 17ms/step - loss: 9.6748e-04 - val_loss: 0.0024\n",
      "Epoch 11/50\n",
      "75/75 - 1s - 16ms/step - loss: 9.9997e-04 - val_loss: 0.0020\n",
      "Epoch 12/50\n",
      "75/75 - 1s - 16ms/step - loss: 0.0010 - val_loss: 0.0018\n",
      "Epoch 13/50\n",
      "75/75 - 1s - 17ms/step - loss: 0.0010 - val_loss: 0.0019\n",
      "Epoch 14/50\n",
      "75/75 - 1s - 17ms/step - loss: 9.7844e-04 - val_loss: 0.0021\n",
      "Epoch 15/50\n",
      "75/75 - 1s - 17ms/step - loss: 9.8540e-04 - val_loss: 0.0022\n",
      "Epoch 16/50\n",
      "75/75 - 1s - 17ms/step - loss: 0.0010 - val_loss: 0.0016\n",
      "Epoch 17/50\n",
      "75/75 - 1s - 16ms/step - loss: 9.7919e-04 - val_loss: 0.0017\n",
      "Epoch 18/50\n",
      "75/75 - 1s - 16ms/step - loss: 9.1369e-04 - val_loss: 0.0018\n",
      "Epoch 19/50\n",
      "75/75 - 1s - 16ms/step - loss: 9.6953e-04 - val_loss: 0.0018\n",
      "Epoch 20/50\n",
      "75/75 - 1s - 16ms/step - loss: 9.6786e-04 - val_loss: 0.0018\n",
      "Epoch 21/50\n",
      "75/75 - 1s - 17ms/step - loss: 9.0919e-04 - val_loss: 0.0017\n",
      "Epoch 22/50\n",
      "75/75 - 1s - 16ms/step - loss: 9.4001e-04 - val_loss: 0.0017\n",
      "Epoch 23/50\n",
      "75/75 - 1s - 16ms/step - loss: 9.3270e-04 - val_loss: 0.0019\n",
      "Epoch 24/50\n",
      "75/75 - 1s - 16ms/step - loss: 8.8027e-04 - val_loss: 0.0015\n",
      "Epoch 25/50\n",
      "75/75 - 1s - 16ms/step - loss: 8.7785e-04 - val_loss: 0.0017\n",
      "Epoch 26/50\n",
      "75/75 - 1s - 17ms/step - loss: 9.2516e-04 - val_loss: 0.0021\n",
      "Epoch 27/50\n",
      "75/75 - 1s - 17ms/step - loss: 9.2575e-04 - val_loss: 0.0016\n",
      "Epoch 28/50\n",
      "75/75 - 1s - 17ms/step - loss: 9.1433e-04 - val_loss: 0.0017\n",
      "Epoch 29/50\n",
      "75/75 - 1s - 17ms/step - loss: 9.0978e-04 - val_loss: 0.0014\n",
      "Epoch 30/50\n",
      "75/75 - 1s - 16ms/step - loss: 8.4059e-04 - val_loss: 0.0016\n",
      "Epoch 31/50\n",
      "75/75 - 1s - 16ms/step - loss: 9.8451e-04 - val_loss: 0.0022\n",
      "Epoch 32/50\n",
      "75/75 - 1s - 16ms/step - loss: 9.4638e-04 - val_loss: 0.0018\n",
      "Epoch 33/50\n",
      "75/75 - 1s - 16ms/step - loss: 8.5807e-04 - val_loss: 0.0016\n",
      "Epoch 34/50\n",
      "75/75 - 1s - 16ms/step - loss: 9.2901e-04 - val_loss: 0.0017\n",
      "Epoch 35/50\n",
      "75/75 - 1s - 16ms/step - loss: 8.7184e-04 - val_loss: 0.0015\n",
      "Epoch 36/50\n",
      "75/75 - 1s - 17ms/step - loss: 9.4893e-04 - val_loss: 0.0016\n",
      "Epoch 37/50\n",
      "75/75 - 1s - 17ms/step - loss: 8.6874e-04 - val_loss: 0.0016\n",
      "Epoch 38/50\n",
      "75/75 - 1s - 16ms/step - loss: 9.2285e-04 - val_loss: 0.0016\n",
      "Epoch 39/50\n",
      "75/75 - 1s - 17ms/step - loss: 8.5202e-04 - val_loss: 0.0016\n",
      "Epoch 40/50\n",
      "75/75 - 1s - 16ms/step - loss: 8.3291e-04 - val_loss: 0.0016\n",
      "Epoch 41/50\n",
      "75/75 - 1s - 16ms/step - loss: 8.7378e-04 - val_loss: 0.0014\n",
      "Epoch 42/50\n",
      "75/75 - 1s - 16ms/step - loss: 9.0174e-04 - val_loss: 0.0014\n",
      "Epoch 43/50\n",
      "75/75 - 1s - 16ms/step - loss: 9.1349e-04 - val_loss: 0.0015\n",
      "Epoch 44/50\n",
      "75/75 - 1s - 16ms/step - loss: 8.3793e-04 - val_loss: 0.0014\n",
      "Epoch 45/50\n",
      "75/75 - 1s - 17ms/step - loss: 8.9777e-04 - val_loss: 0.0014\n",
      "Epoch 46/50\n",
      "75/75 - 1s - 16ms/step - loss: 9.0086e-04 - val_loss: 0.0014\n",
      "Epoch 47/50\n",
      "75/75 - 1s - 14ms/step - loss: 8.6866e-04 - val_loss: 0.0016\n",
      "Epoch 48/50\n",
      "75/75 - 1s - 14ms/step - loss: 9.0864e-04 - val_loss: 0.0016\n",
      "Epoch 49/50\n",
      "75/75 - 1s - 11ms/step - loss: 8.2227e-04 - val_loss: 0.0015\n",
      "Epoch 50/50\n",
      "75/75 - 1s - 12ms/step - loss: 8.3078e-04 - val_loss: 0.0015\n"
     ]
    }
   ],
   "source": [
    "# Train model\n",
    "history = model.fit(X_train2, y_train2, epochs=50, validation_split=0.2, verbose=2)"
   ]
  },
  {
   "cell_type": "code",
   "execution_count": 27,
   "id": "ea1e3fe6",
   "metadata": {},
   "outputs": [
    {
     "name": "stdout",
     "output_type": "stream",
     "text": [
      "\u001b[1m19/19\u001b[0m \u001b[32m━━━━━━━━━━━━━━━━━━━━\u001b[0m\u001b[37m\u001b[0m \u001b[1m1s\u001b[0m 35ms/step\n"
     ]
    }
   ],
   "source": [
    "val_pred = model.predict(X_val_split)"
   ]
  },
  {
   "cell_type": "code",
   "execution_count": 28,
   "id": "4e94fec7",
   "metadata": {},
   "outputs": [],
   "source": [
    "mse_val = mean_squared_error(y_val_split, val_pred)\n",
    "r2_val = r2_score(y_val_split, val_pred)\n",
    "mape_val = mean_absolute_percentage_error(y_val_split, val_pred)"
   ]
  },
  {
   "cell_type": "code",
   "execution_count": 29,
   "id": "652874ba",
   "metadata": {},
   "outputs": [
    {
     "name": "stdout",
     "output_type": "stream",
     "text": [
      "MSE pada data validasi: 0.0013316452371901315\n",
      "R-squared pada data validasi: 0.7347931840792419\n",
      "MAPE pada data validasi: 0.036829794579398056\n"
     ]
    }
   ],
   "source": [
    "print(f'MSE pada data validasi: {mse_val}')\n",
    "print(f'R-squared pada data validasi: {r2_val}')\n",
    "print(f'MAPE pada data validasi: {mape_val}')"
   ]
  },
  {
   "cell_type": "code",
   "execution_count": 30,
   "id": "97fee41f",
   "metadata": {},
   "outputs": [
    {
     "name": "stdout",
     "output_type": "stream",
     "text": [
      "\u001b[1m24/24\u001b[0m \u001b[32m━━━━━━━━━━━━━━━━━━━━\u001b[0m\u001b[37m\u001b[0m \u001b[1m0s\u001b[0m 6ms/step\n",
      "MSE: 0.0019492974968662688\n",
      "R-Squared: 0.8675315879447937\n",
      "MAPE: 0.041336208129524904\n"
     ]
    }
   ],
   "source": [
    "# Make predictions\n",
    "y_pred = model.predict(X_test2)\n",
    "\n",
    "# Evaluate the model\n",
    "mse = mean_squared_error(y_test2, y_pred)\n",
    "print(f'MSE: {mse}')\n",
    "\n",
    "# Calculate R-Squared\n",
    "r2 = r2_score(y_test2, y_pred)\n",
    "print(f'R-Squared: {r2}')\n",
    "\n",
    "# Calculate MAPE\n",
    "mape = mean_absolute_percentage_error(y_test2, y_pred)\n",
    "print(f'MAPE: {mape}')"
   ]
  },
  {
   "cell_type": "code",
   "execution_count": 31,
   "id": "831a0777",
   "metadata": {},
   "outputs": [],
   "source": [
    "# Visualisasi dan Dokumentasi"
   ]
  },
  {
   "cell_type": "code",
   "execution_count": 32,
   "id": "b7425fd5",
   "metadata": {},
   "outputs": [],
   "source": [
    "y_pred = scaler_y.inverse_transform(y_pred)"
   ]
  },
  {
   "cell_type": "code",
   "execution_count": 33,
   "id": "617ea441",
   "metadata": {},
   "outputs": [],
   "source": [
    "y_test2 = scaler_y.inverse_transform(y_test2)"
   ]
  },
  {
   "cell_type": "code",
   "execution_count": 34,
   "id": "3698b301",
   "metadata": {},
   "outputs": [],
   "source": [
    "y_pred = pd.DataFrame(y_pred, columns=['Prediksi'])"
   ]
  },
  {
   "cell_type": "code",
   "execution_count": 35,
   "id": "7438853d",
   "metadata": {},
   "outputs": [],
   "source": [
    "df_pred = df_unsampled.drop(['Terakhir', 'Pembukaan', 'Tertinggi', 'Terendah', 'Vol.', 'Perubahan%'], axis=1)\n",
    "df_pred = df_pred.iloc[1:]\n",
    "df_pred = df_pred.reset_index(drop=True)\n",
    "df_pred = df_pred.drop(df_pred[:-749].index)"
   ]
  },
  {
   "cell_type": "code",
   "execution_count": 36,
   "id": "ee87e77d",
   "metadata": {},
   "outputs": [],
   "source": [
    "df_pred = df_pred['Tanggal'].reset_index()"
   ]
  },
  {
   "cell_type": "code",
   "execution_count": 37,
   "id": "c6c7628e",
   "metadata": {},
   "outputs": [],
   "source": [
    "preds = pd.concat([df_pred, y_pred], axis=1)\n",
    "preds = preds.drop(['index'], axis=1)"
   ]
  },
  {
   "cell_type": "code",
   "execution_count": 38,
   "id": "587910b6",
   "metadata": {},
   "outputs": [
    {
     "data": {
      "image/png": "[encoded data removed]",
      "text/plain": [
       "<Figure size 1008x504 with 1 Axes>"
      ]
     },
     "metadata": {
      "needs_background": "light"
     },
     "output_type": "display_data"
    }
   ],
   "source": [
    "import seaborn as sns\n",
    "plt.figure(figsize=(14, 7))\n",
    "plt.plot(pd.to_datetime(df_unsampled['Tanggal']), df_unsampled['Terakhir'], label='Nilai Aktual')\n",
    "plt.plot(pd.to_datetime(preds['Tanggal']),preds['Prediksi'], label='Hasil Prediksi', linestyle='-') # Use 'Prediksi Harga' instead of 'y_pred'\n",
    "plt.xlabel('Tanggal')\n",
    "plt.ylabel('Harga Terakhir')\n",
    "plt.title('Perbandingan Nilai Aktual dan Hasil Prediksi Harga Emas untuk Model 1')\n",
    "plt.legend()\n",
    "plt.grid(True)\n",
    "plt.show()"
   ]
  },
  {
   "cell_type": "code",
   "execution_count": 40,
   "id": "ab35cd42",
   "metadata": {},
   "outputs": [
    {
     "name": "stdout",
     "output_type": "stream",
     "text": [
      "\u001b[1m117/117\u001b[0m \u001b[32m━━━━━━━━━━━━━━━━━━━━\u001b[0m\u001b[37m\u001b[0m \u001b[1m1s\u001b[0m 5ms/step\n"
     ]
    }
   ],
   "source": [
    "# Buat dataset untuk prediksi seluruh data\n",
    "X_full = scaler_X.transform(X)\n",
    "y_full = scaler_y.transform(y)\n",
    "\n",
    "X_full, y_full = create_dataset(X_full, y_full, time_step)\n",
    "X_full = X_full.reshape(X_full.shape[0], X_full.shape[1], X_full.shape[2])\n",
    "\n",
    "# Make predictions on full dataset\n",
    "y_pred_full = model.predict(X_full)\n",
    "\n",
    "# Inverse transform predictions\n",
    "y_pred_full = scaler_y.inverse_transform(y_pred_full)\n",
    "\n",
    "# Simpan hasil prediksi ke dalam CSV\n",
    "predictions = pd.DataFrame(y_pred_full, columns=['Predicted_Terakhir'])\n",
    "predictions.to_csv('predicted_Terakhir_LSTM.csv', index=False)"
   ]
  },
  {
   "cell_type": "code",
   "execution_count": null,
   "id": "4009b8bc",
   "metadata": {},
   "outputs": [],
   "source": []
  }
 ],
 "metadata": {
  "kernelspec": {
   "display_name": "Python 3 (ipykernel)",
   "language": "python",
   "name": "python3"
  },
  "language_info": {
   "codemirror_mode": {
    "name": "ipython",
    "version": 3
   },
   "file_extension": ".py",
   "mimetype": "text/x-python",
   "name": "python",
   "nbconvert_exporter": "python",
   "pygments_lexer": "ipython3",
   "version": "3.10.4"
  }
 },
 "nbformat": 4,
 "nbformat_minor": 5
}
